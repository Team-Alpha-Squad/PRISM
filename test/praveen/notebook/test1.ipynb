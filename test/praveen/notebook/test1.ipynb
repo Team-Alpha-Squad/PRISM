{
  "nbformat": 4,
  "nbformat_minor": 0,
  "metadata": {
    "colab": {
      "name": "test1.ipynb",
      "provenance": [],
      "authorship_tag": "ABX9TyOFjtcUK0HW5CxO3H8SLudv",
      "include_colab_link": true
    },
    "kernelspec": {
      "name": "python3",
      "display_name": "Python 3"
    }
  },
  "cells": [
    {
      "cell_type": "markdown",
      "metadata": {
        "id": "view-in-github",
        "colab_type": "text"
      },
      "source": [
        "<a href=\"https://colab.research.google.com/github/Team-Alpha-Squad/PRISM/blob/master/test/praveen/notebook/test1.ipynb\" target=\"_parent\"><img src=\"https://colab.research.google.com/assets/colab-badge.svg\" alt=\"Open In Colab\"/></a>"
      ]
    },
    {
      "cell_type": "code",
      "metadata": {
        "id": "piAjm0jOz3yh",
        "colab_type": "code",
        "colab": {}
      },
      "source": [
        "print(\"Praveen\")"
      ],
      "execution_count": 0,
      "outputs": []
    }
  ]
}