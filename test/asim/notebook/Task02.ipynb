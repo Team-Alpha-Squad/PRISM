{
  "nbformat": 4,
  "nbformat_minor": 0,
  "metadata": {
    "colab": {
      "name": "Task02.ipynb",
      "provenance": [],
      "authorship_tag": "ABX9TyN529xTP+Pji+SqfqFybyr6",
      "include_colab_link": true
    },
    "kernelspec": {
      "name": "python3",
      "display_name": "Python 3"
    }
  },
  "cells": [
    {
      "cell_type": "markdown",
      "metadata": {
        "id": "view-in-github",
        "colab_type": "text"
      },
      "source": [
        "<a href=\"https://colab.research.google.com/github/Team-Alpha-Squad/PRISM/blob/master/test/asim/notebook/Task02.ipynb\" target=\"_parent\"><img src=\"https://colab.research.google.com/assets/colab-badge.svg\" alt=\"Open In Colab\"/></a>"
      ]
    },
    {
      "cell_type": "markdown",
      "metadata": {
        "id": "ryi1BflSRVSj",
        "colab_type": "text"
      },
      "source": [
        "**It will work**"
      ]
    },
    {
      "cell_type": "code",
      "metadata": {
        "id": "PBi-eBzFQmfj",
        "colab_type": "code",
        "colab": {}
      },
      "source": [
        ""
      ],
      "execution_count": null,
      "outputs": []
    }
  ]
}