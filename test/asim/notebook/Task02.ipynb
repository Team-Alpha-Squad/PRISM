{
  "nbformat": 4,
  "nbformat_minor": 0,
  "metadata": {
    "colab": {
      "name": "Task02.ipynb",
      "provenance": [],
      "include_colab_link": true
    },
    "kernelspec": {
      "name": "python3",
      "display_name": "Python 3"
    }
  },
  "cells": [
    {
      "cell_type": "markdown",
      "metadata": {
        "id": "view-in-github",
        "colab_type": "text"
      },
      "source": [
        "<a href=\"https://colab.research.google.com/github/Team-Alpha-Squad/PRISM/blob/master/test/asim/notebook/Task02.ipynb\" target=\"_parent\"><img src=\"https://colab.research.google.com/assets/colab-badge.svg\" alt=\"Open In Colab\"/></a>"
      ]
    },
    {
      "cell_type": "markdown",
      "metadata": {
        "id": "ryi1BflSRVSj",
        "colab_type": "text"
      },
      "source": [
        "**Analysis of Industry Specific Datasets**"
      ]
    },
    {
      "cell_type": "code",
      "metadata": {
        "id": "PBi-eBzFQmfj",
        "colab_type": "code",
        "colab": {}
      },
      "source": [
        "# Important Libraries for analysis\n",
        "import pandas as pd\n",
        "import numpy as np\n",
        "import matplotlib.pyplot as plt\n",
        "import numpy as np"
      ],
      "execution_count": 1,
      "outputs": []
    },
    {
      "cell_type": "markdown",
      "metadata": {
        "id": "-H0qnVCTZ1w2",
        "colab_type": "text"
      },
      "source": [
        "**1. Analysis For Automobile Industry**"
      ]
    },
    {
      "cell_type": "code",
      "metadata": {
        "id": "MARdgsGWTYlT",
        "colab_type": "code",
        "colab": {
          "base_uri": "https://localhost:8080/",
          "height": 402
        },
        "outputId": "1dbba2be-50e9-4ca7-8cf1-68d95d1efe28"
      },
      "source": [
        "auto_data = pd.read_csv(\"https://raw.githubusercontent.com/Team-Alpha-Squad/PRISM/master/test/asim/data/automotive_ppi.csv\")\n",
        "auto_data = auto_data[-100:]\n",
        "auto_data"
      ],
      "execution_count": 2,
      "outputs": [
        {
          "output_type": "execute_result",
          "data": {
            "text/html": [
              "<div>\n",
              "<style scoped>\n",
              "    .dataframe tbody tr th:only-of-type {\n",
              "        vertical-align: middle;\n",
              "    }\n",
              "\n",
              "    .dataframe tbody tr th {\n",
              "        vertical-align: top;\n",
              "    }\n",
              "\n",
              "    .dataframe thead th {\n",
              "        text-align: right;\n",
              "    }\n",
              "</style>\n",
              "<table border=\"1\" class=\"dataframe\">\n",
              "  <thead>\n",
              "    <tr style=\"text-align: right;\">\n",
              "      <th></th>\n",
              "      <th>DATE</th>\n",
              "      <th>WPU5861</th>\n",
              "    </tr>\n",
              "  </thead>\n",
              "  <tbody>\n",
              "    <tr>\n",
              "      <th>32</th>\n",
              "      <td>2012-02-01</td>\n",
              "      <td>106.5</td>\n",
              "    </tr>\n",
              "    <tr>\n",
              "      <th>33</th>\n",
              "      <td>2012-03-01</td>\n",
              "      <td>110.3</td>\n",
              "    </tr>\n",
              "    <tr>\n",
              "      <th>34</th>\n",
              "      <td>2012-04-01</td>\n",
              "      <td>111.3</td>\n",
              "    </tr>\n",
              "    <tr>\n",
              "      <th>35</th>\n",
              "      <td>2012-05-01</td>\n",
              "      <td>109.7</td>\n",
              "    </tr>\n",
              "    <tr>\n",
              "      <th>36</th>\n",
              "      <td>2012-06-01</td>\n",
              "      <td>106.0</td>\n",
              "    </tr>\n",
              "    <tr>\n",
              "      <th>...</th>\n",
              "      <td>...</td>\n",
              "      <td>...</td>\n",
              "    </tr>\n",
              "    <tr>\n",
              "      <th>127</th>\n",
              "      <td>2020-01-01</td>\n",
              "      <td>95.0</td>\n",
              "    </tr>\n",
              "    <tr>\n",
              "      <th>128</th>\n",
              "      <td>2020-02-01</td>\n",
              "      <td>95.2</td>\n",
              "    </tr>\n",
              "    <tr>\n",
              "      <th>129</th>\n",
              "      <td>2020-03-01</td>\n",
              "      <td>95.0</td>\n",
              "    </tr>\n",
              "    <tr>\n",
              "      <th>130</th>\n",
              "      <td>2020-04-01</td>\n",
              "      <td>97.6</td>\n",
              "    </tr>\n",
              "    <tr>\n",
              "      <th>131</th>\n",
              "      <td>2020-05-01</td>\n",
              "      <td>90.8</td>\n",
              "    </tr>\n",
              "  </tbody>\n",
              "</table>\n",
              "<p>100 rows × 2 columns</p>\n",
              "</div>"
            ],
            "text/plain": [
              "           DATE  WPU5861\n",
              "32   2012-02-01    106.5\n",
              "33   2012-03-01    110.3\n",
              "34   2012-04-01    111.3\n",
              "35   2012-05-01    109.7\n",
              "36   2012-06-01    106.0\n",
              "..          ...      ...\n",
              "127  2020-01-01     95.0\n",
              "128  2020-02-01     95.2\n",
              "129  2020-03-01     95.0\n",
              "130  2020-04-01     97.6\n",
              "131  2020-05-01     90.8\n",
              "\n",
              "[100 rows x 2 columns]"
            ]
          },
          "metadata": {
            "tags": []
          },
          "execution_count": 2
        }
      ]
    },
    {
      "cell_type": "code",
      "metadata": {
        "id": "W5o199I3UJqx",
        "colab_type": "code",
        "colab": {}
      },
      "source": [
        "date = auto_data[\"DATE\"]\n",
        "ppi = auto_data[\"WPU5861\"]\n",
        "rang = [num for num in range(100)]"
      ],
      "execution_count": 3,
      "outputs": []
    },
    {
      "cell_type": "code",
      "metadata": {
        "id": "F9cvbLZtW9GG",
        "colab_type": "code",
        "colab": {
          "base_uri": "https://localhost:8080/",
          "height": 282
        },
        "outputId": "aa388ac0-e59d-4fde-ef32-ad62e9f826a4"
      },
      "source": [
        "\n",
        "plt.plot(rang, ppi)\n",
        "plt.xlabel('No. of Months from (Feb 2012)', fontsize=12)\n",
        "plt.ylabel('PPI over time', fontsize=12)\n",
        "plt.show()"
      ],
      "execution_count": 4,
      "outputs": [
        {
          "output_type": "display_data",
          "data": {
            "image/png": "[encoded data removed]",
            "text/plain": [
              "<Figure size 432x288 with 1 Axes>"
            ]
          },
          "metadata": {
            "tags": [],
            "needs_background": "light"
          }
        }
      ]
    },
    {
      "cell_type": "markdown",
      "metadata": {
        "id": "UhneV2HLaH2h",
        "colab_type": "text"
      },
      "source": [
        "Automobile Employment"
      ]
    },
    {
      "cell_type": "code",
      "metadata": {
        "id": "uO6LFNX3aNK5",
        "colab_type": "code",
        "colab": {
          "base_uri": "https://localhost:8080/",
          "height": 402
        },
        "outputId": "c3c7d3c1-48de-4e09-bc01-2e66f1ec9a68"
      },
      "source": [
        "auto_emp = pd.read_csv(\"https://raw.githubusercontent.com/Team-Alpha-Squad/PRISM/master/test/asim/data/automobile_employment.csv\")\n",
        "auto_emp = auto_emp[-100:]\n",
        "auto_emp"
      ],
      "execution_count": 6,
      "outputs": [
        {
          "output_type": "execute_result",
          "data": {
            "text/html": [
              "<div>\n",
              "<style scoped>\n",
              "    .dataframe tbody tr th:only-of-type {\n",
              "        vertical-align: middle;\n",
              "    }\n",
              "\n",
              "    .dataframe tbody tr th {\n",
              "        vertical-align: top;\n",
              "    }\n",
              "\n",
              "    .dataframe thead th {\n",
              "        text-align: right;\n",
              "    }\n",
              "</style>\n",
              "<table border=\"1\" class=\"dataframe\">\n",
              "  <thead>\n",
              "    <tr style=\"text-align: right;\">\n",
              "      <th></th>\n",
              "      <th>DATE</th>\n",
              "      <th>CES4244110001</th>\n",
              "    </tr>\n",
              "  </thead>\n",
              "  <tbody>\n",
              "    <tr>\n",
              "      <th>482</th>\n",
              "      <td>2012-03-01</td>\n",
              "      <td>1085.5</td>\n",
              "    </tr>\n",
              "    <tr>\n",
              "      <th>483</th>\n",
              "      <td>2012-04-01</td>\n",
              "      <td>1086.8</td>\n",
              "    </tr>\n",
              "    <tr>\n",
              "      <th>484</th>\n",
              "      <td>2012-05-01</td>\n",
              "      <td>1090.5</td>\n",
              "    </tr>\n",
              "    <tr>\n",
              "      <th>485</th>\n",
              "      <td>2012-06-01</td>\n",
              "      <td>1094.1</td>\n",
              "    </tr>\n",
              "    <tr>\n",
              "      <th>486</th>\n",
              "      <td>2012-07-01</td>\n",
              "      <td>1093.7</td>\n",
              "    </tr>\n",
              "    <tr>\n",
              "      <th>...</th>\n",
              "      <td>...</td>\n",
              "      <td>...</td>\n",
              "    </tr>\n",
              "    <tr>\n",
              "      <th>577</th>\n",
              "      <td>2020-02-01</td>\n",
              "      <td>1309.4</td>\n",
              "    </tr>\n",
              "    <tr>\n",
              "      <th>578</th>\n",
              "      <td>2020-03-01</td>\n",
              "      <td>1299.6</td>\n",
              "    </tr>\n",
              "    <tr>\n",
              "      <th>579</th>\n",
              "      <td>2020-04-01</td>\n",
              "      <td>1019.9</td>\n",
              "    </tr>\n",
              "    <tr>\n",
              "      <th>580</th>\n",
              "      <td>2020-05-01</td>\n",
              "      <td>1109.4</td>\n",
              "    </tr>\n",
              "    <tr>\n",
              "      <th>581</th>\n",
              "      <td>2020-06-01</td>\n",
              "      <td>1167.5</td>\n",
              "    </tr>\n",
              "  </tbody>\n",
              "</table>\n",
              "<p>100 rows × 2 columns</p>\n",
              "</div>"
            ],
            "text/plain": [
              "           DATE  CES4244110001\n",
              "482  2012-03-01         1085.5\n",
              "483  2012-04-01         1086.8\n",
              "484  2012-05-01         1090.5\n",
              "485  2012-06-01         1094.1\n",
              "486  2012-07-01         1093.7\n",
              "..          ...            ...\n",
              "577  2020-02-01         1309.4\n",
              "578  2020-03-01         1299.6\n",
              "579  2020-04-01         1019.9\n",
              "580  2020-05-01         1109.4\n",
              "581  2020-06-01         1167.5\n",
              "\n",
              "[100 rows x 2 columns]"
            ]
          },
          "metadata": {
            "tags": []
          },
          "execution_count": 6
        }
      ]
    },
    {
      "cell_type": "code",
      "metadata": {
        "id": "pp-ubjk1a0WB",
        "colab_type": "code",
        "colab": {}
      },
      "source": [
        "date = auto_emp[\"DATE\"]\n",
        "\n",
        "# Thousands of persons - k_person\n",
        "k_person = auto_emp[\"CES4244110001\"]"
      ],
      "execution_count": 7,
      "outputs": []
    },
    {
      "cell_type": "code",
      "metadata": {
        "id": "gjCUhcgsbZ4K",
        "colab_type": "code",
        "colab": {
          "base_uri": "https://localhost:8080/",
          "height": 298
        },
        "outputId": "c477e35b-7428-48aa-8d5f-e1f7f14e3bb2"
      },
      "source": [
        "plt.plot(rang, k_person)\n",
        "plt.title(\"Employment in Automotive Industry\")\n",
        "plt.xlabel('No. of Months from (Mar 2012)', fontsize=12)\n",
        "plt.ylabel('Thousand of Person', fontsize=12)\n",
        "plt.show()"
      ],
      "execution_count": 8,
      "outputs": [
        {
          "output_type": "display_data",
          "data": {
            "image/png": "[encoded data removed]",
            "text/plain": [
              "<Figure size 432x288 with 1 Axes>"
            ]
          },
          "metadata": {
            "tags": [],
            "needs_background": "light"
          }
        }
      ]
    },
    {
      "cell_type": "markdown",
      "metadata": {
        "id": "UcMw7XewaHyS",
        "colab_type": "text"
      },
      "source": [
        ""
      ]
    },
    {
      "cell_type": "markdown",
      "metadata": {
        "id": "n4gSmLR4ebjB",
        "colab_type": "text"
      },
      "source": [
        "**2. Analysis of Agriculture Industry**\n"
      ]
    },
    {
      "cell_type": "code",
      "metadata": {
        "id": "HRxj5VMQebTt",
        "colab_type": "code",
        "colab": {
          "base_uri": "https://localhost:8080/",
          "height": 402
        },
        "outputId": "1dc0a2c7-c08c-42c9-b7ba-c751599231c5"
      },
      "source": [
        "agri_data = pd.read_csv(\"https://raw.githubusercontent.com/Team-Alpha-Squad/PRISM/master/test/asim/data/agricultural_employment.csv\")\n",
        "agri_data = agri_data[-100:]\n",
        "agri_data"
      ],
      "execution_count": 9,
      "outputs": [
        {
          "output_type": "execute_result",
          "data": {
            "text/html": [
              "<div>\n",
              "<style scoped>\n",
              "    .dataframe tbody tr th:only-of-type {\n",
              "        vertical-align: middle;\n",
              "    }\n",
              "\n",
              "    .dataframe tbody tr th {\n",
              "        vertical-align: top;\n",
              "    }\n",
              "\n",
              "    .dataframe thead th {\n",
              "        text-align: right;\n",
              "    }\n",
              "</style>\n",
              "<table border=\"1\" class=\"dataframe\">\n",
              "  <thead>\n",
              "    <tr style=\"text-align: right;\">\n",
              "      <th></th>\n",
              "      <th>DATE</th>\n",
              "      <th>LNS12034560</th>\n",
              "    </tr>\n",
              "  </thead>\n",
              "  <tbody>\n",
              "    <tr>\n",
              "      <th>770</th>\n",
              "      <td>2012-03-01</td>\n",
              "      <td>2236</td>\n",
              "    </tr>\n",
              "    <tr>\n",
              "      <th>771</th>\n",
              "      <td>2012-04-01</td>\n",
              "      <td>2206</td>\n",
              "    </tr>\n",
              "    <tr>\n",
              "      <th>772</th>\n",
              "      <td>2012-05-01</td>\n",
              "      <td>2299</td>\n",
              "    </tr>\n",
              "    <tr>\n",
              "      <th>773</th>\n",
              "      <td>2012-06-01</td>\n",
              "      <td>2233</td>\n",
              "    </tr>\n",
              "    <tr>\n",
              "      <th>774</th>\n",
              "      <td>2012-07-01</td>\n",
              "      <td>2230</td>\n",
              "    </tr>\n",
              "    <tr>\n",
              "      <th>...</th>\n",
              "      <td>...</td>\n",
              "      <td>...</td>\n",
              "    </tr>\n",
              "    <tr>\n",
              "      <th>865</th>\n",
              "      <td>2020-02-01</td>\n",
              "      <td>2466</td>\n",
              "    </tr>\n",
              "    <tr>\n",
              "      <th>866</th>\n",
              "      <td>2020-03-01</td>\n",
              "      <td>2399</td>\n",
              "    </tr>\n",
              "    <tr>\n",
              "      <th>867</th>\n",
              "      <td>2020-04-01</td>\n",
              "      <td>2424</td>\n",
              "    </tr>\n",
              "    <tr>\n",
              "      <th>868</th>\n",
              "      <td>2020-05-01</td>\n",
              "      <td>2341</td>\n",
              "    </tr>\n",
              "    <tr>\n",
              "      <th>869</th>\n",
              "      <td>2020-06-01</td>\n",
              "      <td>2298</td>\n",
              "    </tr>\n",
              "  </tbody>\n",
              "</table>\n",
              "<p>100 rows × 2 columns</p>\n",
              "</div>"
            ],
            "text/plain": [
              "           DATE  LNS12034560\n",
              "770  2012-03-01         2236\n",
              "771  2012-04-01         2206\n",
              "772  2012-05-01         2299\n",
              "773  2012-06-01         2233\n",
              "774  2012-07-01         2230\n",
              "..          ...          ...\n",
              "865  2020-02-01         2466\n",
              "866  2020-03-01         2399\n",
              "867  2020-04-01         2424\n",
              "868  2020-05-01         2341\n",
              "869  2020-06-01         2298\n",
              "\n",
              "[100 rows x 2 columns]"
            ]
          },
          "metadata": {
            "tags": []
          },
          "execution_count": 9
        }
      ]
    },
    {
      "cell_type": "code",
      "metadata": {
        "id": "mwusbV9nklv6",
        "colab_type": "code",
        "colab": {}
      },
      "source": [
        "k_person = agri_data[\"LNS12034560\"]\n"
      ],
      "execution_count": 10,
      "outputs": []
    },
    {
      "cell_type": "code",
      "metadata": {
        "id": "zAx4w4FhmfeK",
        "colab_type": "code",
        "colab": {
          "base_uri": "https://localhost:8080/",
          "height": 298
        },
        "outputId": "7a5f486f-9ed1-496f-abd5-3bbd27aa9c56"
      },
      "source": [
        "plt.plot(rang, k_person)\n",
        "plt.title(\"Employment in Agriculture Industry\")\n",
        "plt.xlabel('No. of Months from (Mar 2012)', fontsize=12)\n",
        "plt.ylabel('Thousand of Person', fontsize=12)\n",
        "plt.show()"
      ],
      "execution_count": 11,
      "outputs": [
        {
          "output_type": "display_data",
          "data": {
            "image/png": "[encoded data removed]",
            "text/plain": [
              "<Figure size 432x288 with 1 Axes>"
            ]
          },
          "metadata": {
            "tags": [],
            "needs_background": "light"
          }
        }
      ]
    },
    {
      "cell_type": "markdown",
      "metadata": {
        "id": "x_xIrq0entks",
        "colab_type": "text"
      },
      "source": [
        "**3. IT Industry**"
      ]
    },
    {
      "cell_type": "code",
      "metadata": {
        "id": "LsgQ-tUWnz0P",
        "colab_type": "code",
        "colab": {
          "base_uri": "https://localhost:8080/",
          "height": 402
        },
        "outputId": "7af7373a-d596-4229-d4b0-f4c546979bac"
      },
      "source": [
        "it_data = pd.read_csv(\"https://raw.githubusercontent.com/Team-Alpha-Squad/PRISM/master/test/asim/data/it_industry.csv\")\n",
        "it_data = it_data[-100:]\n",
        "it_data"
      ],
      "execution_count": 12,
      "outputs": [
        {
          "output_type": "execute_result",
          "data": {
            "text/html": [
              "<div>\n",
              "<style scoped>\n",
              "    .dataframe tbody tr th:only-of-type {\n",
              "        vertical-align: middle;\n",
              "    }\n",
              "\n",
              "    .dataframe tbody tr th {\n",
              "        vertical-align: top;\n",
              "    }\n",
              "\n",
              "    .dataframe thead th {\n",
              "        text-align: right;\n",
              "    }\n",
              "</style>\n",
              "<table border=\"1\" class=\"dataframe\">\n",
              "  <thead>\n",
              "    <tr style=\"text-align: right;\">\n",
              "      <th></th>\n",
              "      <th>DATE</th>\n",
              "      <th>AITITI</th>\n",
              "    </tr>\n",
              "  </thead>\n",
              "  <tbody>\n",
              "    <tr>\n",
              "      <th>241</th>\n",
              "      <td>2012-02-01</td>\n",
              "      <td>39897.0</td>\n",
              "    </tr>\n",
              "    <tr>\n",
              "      <th>242</th>\n",
              "      <td>2012-03-01</td>\n",
              "      <td>40155.0</td>\n",
              "    </tr>\n",
              "    <tr>\n",
              "      <th>243</th>\n",
              "      <td>2012-04-01</td>\n",
              "      <td>40023.0</td>\n",
              "    </tr>\n",
              "    <tr>\n",
              "      <th>244</th>\n",
              "      <td>2012-05-01</td>\n",
              "      <td>39672.0</td>\n",
              "    </tr>\n",
              "    <tr>\n",
              "      <th>245</th>\n",
              "      <td>2012-06-01</td>\n",
              "      <td>38988.0</td>\n",
              "    </tr>\n",
              "    <tr>\n",
              "      <th>...</th>\n",
              "      <td>...</td>\n",
              "      <td>...</td>\n",
              "    </tr>\n",
              "    <tr>\n",
              "      <th>336</th>\n",
              "      <td>2020-01-01</td>\n",
              "      <td>38866.0</td>\n",
              "    </tr>\n",
              "    <tr>\n",
              "      <th>337</th>\n",
              "      <td>2020-02-01</td>\n",
              "      <td>38716.0</td>\n",
              "    </tr>\n",
              "    <tr>\n",
              "      <th>338</th>\n",
              "      <td>2020-03-01</td>\n",
              "      <td>38970.0</td>\n",
              "    </tr>\n",
              "    <tr>\n",
              "      <th>339</th>\n",
              "      <td>2020-04-01</td>\n",
              "      <td>39339.0</td>\n",
              "    </tr>\n",
              "    <tr>\n",
              "      <th>340</th>\n",
              "      <td>2020-05-01</td>\n",
              "      <td>39373.0</td>\n",
              "    </tr>\n",
              "  </tbody>\n",
              "</table>\n",
              "<p>100 rows × 2 columns</p>\n",
              "</div>"
            ],
            "text/plain": [
              "           DATE   AITITI\n",
              "241  2012-02-01  39897.0\n",
              "242  2012-03-01  40155.0\n",
              "243  2012-04-01  40023.0\n",
              "244  2012-05-01  39672.0\n",
              "245  2012-06-01  38988.0\n",
              "..          ...      ...\n",
              "336  2020-01-01  38866.0\n",
              "337  2020-02-01  38716.0\n",
              "338  2020-03-01  38970.0\n",
              "339  2020-04-01  39339.0\n",
              "340  2020-05-01  39373.0\n",
              "\n",
              "[100 rows x 2 columns]"
            ]
          },
          "metadata": {
            "tags": []
          },
          "execution_count": 12
        }
      ]
    },
    {
      "cell_type": "code",
      "metadata": {
        "id": "zdc6fFRMoIz5",
        "colab_type": "code",
        "colab": {}
      },
      "source": [
        "k_person = it_data[\"AITITI\"]\n"
      ],
      "execution_count": 13,
      "outputs": []
    },
    {
      "cell_type": "code",
      "metadata": {
        "id": "K9qEfIdMoaDW",
        "colab_type": "code",
        "colab": {
          "base_uri": "https://localhost:8080/",
          "height": 298
        },
        "outputId": "acbaf1e9-29e0-4467-dc1a-34008a37e8d5"
      },
      "source": [
        "plt.plot(rang, k_person)\n",
        "plt.title(\"Employment in IT Industry\")\n",
        "plt.xlabel('No. of Months from (Feb 2012)', fontsize=12)\n",
        "plt.ylabel('Thousand of Person', fontsize=12)\n",
        "plt.show()"
      ],
      "execution_count": 14,
      "outputs": [
        {
          "output_type": "display_data",
          "data": {
            "image/png": "[encoded data removed]",
            "text/plain": [
              "<Figure size 432x288 with 1 Axes>"
            ]
          },
          "metadata": {
            "tags": [],
            "needs_background": "light"
          }
        }
      ]
    },
    {
      "cell_type": "markdown",
      "metadata": {
        "id": "8sy-KS57olDm",
        "colab_type": "text"
      },
      "source": [
        "**4. Manufacturing Industries**"
      ]
    },
    {
      "cell_type": "code",
      "metadata": {
        "id": "uUHXKIw1otuC",
        "colab_type": "code",
        "colab": {
          "base_uri": "https://localhost:8080/",
          "height": 402
        },
        "outputId": "9268426d-6d45-4b55-e9a0-e25ac291722d"
      },
      "source": [
        "man_data = pd.read_csv(\"https://raw.githubusercontent.com/Team-Alpha-Squad/PRISM/master/test/asim/data/manufacturing.csv\")\n",
        "man_data = man_data[-100:]\n",
        "man_data"
      ],
      "execution_count": 15,
      "outputs": [
        {
          "output_type": "execute_result",
          "data": {
            "text/html": [
              "<div>\n",
              "<style scoped>\n",
              "    .dataframe tbody tr th:only-of-type {\n",
              "        vertical-align: middle;\n",
              "    }\n",
              "\n",
              "    .dataframe tbody tr th {\n",
              "        vertical-align: top;\n",
              "    }\n",
              "\n",
              "    .dataframe thead th {\n",
              "        text-align: right;\n",
              "    }\n",
              "</style>\n",
              "<table border=\"1\" class=\"dataframe\">\n",
              "  <thead>\n",
              "    <tr style=\"text-align: right;\">\n",
              "      <th></th>\n",
              "      <th>DATE</th>\n",
              "      <th>MANEMP</th>\n",
              "    </tr>\n",
              "  </thead>\n",
              "  <tbody>\n",
              "    <tr>\n",
              "      <th>878</th>\n",
              "      <td>2012-03-01</td>\n",
              "      <td>11898</td>\n",
              "    </tr>\n",
              "    <tr>\n",
              "      <th>879</th>\n",
              "      <td>2012-04-01</td>\n",
              "      <td>11916</td>\n",
              "    </tr>\n",
              "    <tr>\n",
              "      <th>880</th>\n",
              "      <td>2012-05-01</td>\n",
              "      <td>11927</td>\n",
              "    </tr>\n",
              "    <tr>\n",
              "      <th>881</th>\n",
              "      <td>2012-06-01</td>\n",
              "      <td>11936</td>\n",
              "    </tr>\n",
              "    <tr>\n",
              "      <th>882</th>\n",
              "      <td>2012-07-01</td>\n",
              "      <td>11964</td>\n",
              "    </tr>\n",
              "    <tr>\n",
              "      <th>...</th>\n",
              "      <td>...</td>\n",
              "      <td>...</td>\n",
              "    </tr>\n",
              "    <tr>\n",
              "      <th>973</th>\n",
              "      <td>2020-02-01</td>\n",
              "      <td>12852</td>\n",
              "    </tr>\n",
              "    <tr>\n",
              "      <th>974</th>\n",
              "      <td>2020-03-01</td>\n",
              "      <td>12806</td>\n",
              "    </tr>\n",
              "    <tr>\n",
              "      <th>975</th>\n",
              "      <td>2020-04-01</td>\n",
              "      <td>11489</td>\n",
              "    </tr>\n",
              "    <tr>\n",
              "      <th>976</th>\n",
              "      <td>2020-05-01</td>\n",
              "      <td>11739</td>\n",
              "    </tr>\n",
              "    <tr>\n",
              "      <th>977</th>\n",
              "      <td>2020-06-01</td>\n",
              "      <td>12095</td>\n",
              "    </tr>\n",
              "  </tbody>\n",
              "</table>\n",
              "<p>100 rows × 2 columns</p>\n",
              "</div>"
            ],
            "text/plain": [
              "           DATE  MANEMP\n",
              "878  2012-03-01   11898\n",
              "879  2012-04-01   11916\n",
              "880  2012-05-01   11927\n",
              "881  2012-06-01   11936\n",
              "882  2012-07-01   11964\n",
              "..          ...     ...\n",
              "973  2020-02-01   12852\n",
              "974  2020-03-01   12806\n",
              "975  2020-04-01   11489\n",
              "976  2020-05-01   11739\n",
              "977  2020-06-01   12095\n",
              "\n",
              "[100 rows x 2 columns]"
            ]
          },
          "metadata": {
            "tags": []
          },
          "execution_count": 15
        }
      ]
    },
    {
      "cell_type": "code",
      "metadata": {
        "id": "3lli1oytpTqr",
        "colab_type": "code",
        "colab": {}
      },
      "source": [
        "k_person = man_data[\"MANEMP\"]\n"
      ],
      "execution_count": 16,
      "outputs": []
    },
    {
      "cell_type": "code",
      "metadata": {
        "id": "4nsh6y_QpePn",
        "colab_type": "code",
        "colab": {
          "base_uri": "https://localhost:8080/",
          "height": 298
        },
        "outputId": "bd5eb081-05d5-4296-ebcd-49b22f0d5e38"
      },
      "source": [
        "plt.plot(rang, k_person)\n",
        "plt.title(\"Employment in Manufacturing Industry\")\n",
        "plt.xlabel('No. of Months from (Mar 2012)', fontsize=12)\n",
        "plt.ylabel('Thousand of Person', fontsize=12)\n",
        "plt.show()"
      ],
      "execution_count": 17,
      "outputs": [
        {
          "output_type": "display_data",
          "data": {
            "image/png": "[encoded data removed]",
            "text/plain": [
              "<Figure size 432x288 with 1 Axes>"
            ]
          },
          "metadata": {
            "tags": [],
            "needs_background": "light"
          }
        }
      ]
    }
  ]
}