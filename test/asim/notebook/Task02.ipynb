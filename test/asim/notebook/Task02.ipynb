{
  "nbformat": 4,
  "nbformat_minor": 0,
  "metadata": {
    "colab": {
      "name": "Task02.ipynb",
      "provenance": [],
      "include_colab_link": true
    },
    "kernelspec": {
      "name": "python3",
      "display_name": "Python 3"
    }
  },
  "cells": [
    {
      "cell_type": "markdown",
      "metadata": {
        "id": "view-in-github",
        "colab_type": "text"
      },
      "source": [
        "<a href=\"https://colab.research.google.com/github/Team-Alpha-Squad/PRISM/blob/master/test/asim/notebook/Task02.ipynb\" target=\"_parent\"><img src=\"https://colab.research.google.com/assets/colab-badge.svg\" alt=\"Open In Colab\"/></a>"
      ]
    },
    {
      "cell_type": "markdown",
      "metadata": {
        "id": "ryi1BflSRVSj",
        "colab_type": "text"
      },
      "source": [
        "**Analysis of Industry Specific Datasets**"
      ]
    },
    {
      "cell_type": "code",
      "metadata": {
        "id": "PBi-eBzFQmfj",
        "colab_type": "code",
        "colab": {}
      },
      "source": [
        "# Important Libraries for analysis\n",
        "import pandas as pd\n",
        "import numpy as np\n",
        "import matplotlib.pyplot as plt\n",
        "import numpy as np"
      ],
      "execution_count": 2,
      "outputs": []
    },
    {
      "cell_type": "markdown",
      "metadata": {
        "id": "-H0qnVCTZ1w2",
        "colab_type": "text"
      },
      "source": [
        "**1. Analysis For Automobile Industry**"
      ]
    },
    {
      "cell_type": "code",
      "metadata": {
        "id": "MARdgsGWTYlT",
        "colab_type": "code",
        "colab": {
          "base_uri": "https://localhost:8080/",
          "height": 252
        },
        "outputId": "9d699ae7-5366-493f-da34-abbc57162737"
      },
      "source": [
        "auto_data = pd.read_csv(\"https://raw.githubusercontent.com/Team-Alpha-Squad/PRISM/master/test/asim/data/automotive_ppi.csv\")"
      ],
      "execution_count": 5,
      "outputs": [
        {
          "output_type": "stream",
          "text": [
            "           DATE  WPU5861\n",
            "0    2009-06-01    100.0\n",
            "1    2009-07-01    101.0\n",
            "2    2009-08-01    107.8\n",
            "3    2009-09-01    108.3\n",
            "4    2009-10-01    104.6\n",
            "..          ...      ...\n",
            "127  2020-01-01     95.0\n",
            "128  2020-02-01     95.2\n",
            "129  2020-03-01     95.0\n",
            "130  2020-04-01     97.6\n",
            "131  2020-05-01     90.8\n",
            "\n",
            "[132 rows x 2 columns]\n"
          ],
          "name": "stdout"
        }
      ]
    },
    {
      "cell_type": "code",
      "metadata": {
        "id": "W5o199I3UJqx",
        "colab_type": "code",
        "colab": {
          "base_uri": "https://localhost:8080/",
          "height": 34
        },
        "outputId": "466088f6-fe9a-4a37-e21b-8c47b09ab5ef"
      },
      "source": [
        "date = auto_data[\"DATE\"]\n",
        "ppi = auto_data[\"WPU5861\"]\n",
        "rang = [num for num in range(132)]\n",
        "print(len(rang))"
      ],
      "execution_count": 29,
      "outputs": [
        {
          "output_type": "stream",
          "text": [
            "132\n"
          ],
          "name": "stdout"
        }
      ]
    },
    {
      "cell_type": "code",
      "metadata": {
        "id": "F9cvbLZtW9GG",
        "colab_type": "code",
        "colab": {
          "base_uri": "https://localhost:8080/",
          "height": 282
        },
        "outputId": "3ee0b6c1-06da-45b9-90a1-e00f9f99ce95"
      },
      "source": [
        "\n",
        "plt.plot(rang, ppi)\n",
        "plt.xlabel('No. of Months from (July 2009)', fontsize=12)\n",
        "plt.ylabel('PPI over time', fontsize=12)\n",
        "plt.show()"
      ],
      "execution_count": 30,
      "outputs": [
        {
          "output_type": "display_data",
          "data": {
            "image/png": "[encoded data removed]",
            "text/plain": [
              "<Figure size 432x288 with 1 Axes>"
            ]
          },
          "metadata": {
            "tags": [],
            "needs_background": "light"
          }
        }
      ]
    },
    {
      "cell_type": "markdown",
      "metadata": {
        "id": "UhneV2HLaH2h",
        "colab_type": "text"
      },
      "source": [
        "Automobile Employment"
      ]
    },
    {
      "cell_type": "code",
      "metadata": {
        "id": "uO6LFNX3aNK5",
        "colab_type": "code",
        "colab": {
          "base_uri": "https://localhost:8080/",
          "height": 402
        },
        "outputId": "7135c010-35cd-4d1a-a667-0eff71d2c6bd"
      },
      "source": [
        "auto_emp = pd.read_csv(\"https://raw.githubusercontent.com/Team-Alpha-Squad/PRISM/master/test/asim/data/automobile_employment.csv\")\n",
        "auto_emp"
      ],
      "execution_count": 19,
      "outputs": [
        {
          "output_type": "execute_result",
          "data": {
            "text/html": [
              "<div>\n",
              "<style scoped>\n",
              "    .dataframe tbody tr th:only-of-type {\n",
              "        vertical-align: middle;\n",
              "    }\n",
              "\n",
              "    .dataframe tbody tr th {\n",
              "        vertical-align: top;\n",
              "    }\n",
              "\n",
              "    .dataframe thead th {\n",
              "        text-align: right;\n",
              "    }\n",
              "</style>\n",
              "<table border=\"1\" class=\"dataframe\">\n",
              "  <thead>\n",
              "    <tr style=\"text-align: right;\">\n",
              "      <th></th>\n",
              "      <th>DATE</th>\n",
              "      <th>CES4244110001</th>\n",
              "    </tr>\n",
              "  </thead>\n",
              "  <tbody>\n",
              "    <tr>\n",
              "      <th>0</th>\n",
              "      <td>1972-01-01</td>\n",
              "      <td>797.7</td>\n",
              "    </tr>\n",
              "    <tr>\n",
              "      <th>1</th>\n",
              "      <td>1972-02-01</td>\n",
              "      <td>803.4</td>\n",
              "    </tr>\n",
              "    <tr>\n",
              "      <th>2</th>\n",
              "      <td>1972-03-01</td>\n",
              "      <td>807.1</td>\n",
              "    </tr>\n",
              "    <tr>\n",
              "      <th>3</th>\n",
              "      <td>1972-04-01</td>\n",
              "      <td>811.9</td>\n",
              "    </tr>\n",
              "    <tr>\n",
              "      <th>4</th>\n",
              "      <td>1972-05-01</td>\n",
              "      <td>812.6</td>\n",
              "    </tr>\n",
              "    <tr>\n",
              "      <th>...</th>\n",
              "      <td>...</td>\n",
              "      <td>...</td>\n",
              "    </tr>\n",
              "    <tr>\n",
              "      <th>577</th>\n",
              "      <td>2020-02-01</td>\n",
              "      <td>1309.4</td>\n",
              "    </tr>\n",
              "    <tr>\n",
              "      <th>578</th>\n",
              "      <td>2020-03-01</td>\n",
              "      <td>1299.6</td>\n",
              "    </tr>\n",
              "    <tr>\n",
              "      <th>579</th>\n",
              "      <td>2020-04-01</td>\n",
              "      <td>1019.9</td>\n",
              "    </tr>\n",
              "    <tr>\n",
              "      <th>580</th>\n",
              "      <td>2020-05-01</td>\n",
              "      <td>1109.4</td>\n",
              "    </tr>\n",
              "    <tr>\n",
              "      <th>581</th>\n",
              "      <td>2020-06-01</td>\n",
              "      <td>1167.5</td>\n",
              "    </tr>\n",
              "  </tbody>\n",
              "</table>\n",
              "<p>582 rows × 2 columns</p>\n",
              "</div>"
            ],
            "text/plain": [
              "           DATE  CES4244110001\n",
              "0    1972-01-01          797.7\n",
              "1    1972-02-01          803.4\n",
              "2    1972-03-01          807.1\n",
              "3    1972-04-01          811.9\n",
              "4    1972-05-01          812.6\n",
              "..          ...            ...\n",
              "577  2020-02-01         1309.4\n",
              "578  2020-03-01         1299.6\n",
              "579  2020-04-01         1019.9\n",
              "580  2020-05-01         1109.4\n",
              "581  2020-06-01         1167.5\n",
              "\n",
              "[582 rows x 2 columns]"
            ]
          },
          "metadata": {
            "tags": []
          },
          "execution_count": 19
        }
      ]
    },
    {
      "cell_type": "code",
      "metadata": {
        "id": "pp-ubjk1a0WB",
        "colab_type": "code",
        "colab": {}
      },
      "source": [
        "date = auto_emp[\"DATE\"]\n",
        "\n",
        "# Thousands of persons - k_person\n",
        "k_person = auto_emp[\"CES4244110001\"]\n",
        "rang = [num for num in range(0, 582)]"
      ],
      "execution_count": 22,
      "outputs": []
    },
    {
      "cell_type": "code",
      "metadata": {
        "id": "gjCUhcgsbZ4K",
        "colab_type": "code",
        "colab": {
          "base_uri": "https://localhost:8080/",
          "height": 282
        },
        "outputId": "fb9789f6-1e9f-4c04-f239-4144fc8c3200"
      },
      "source": [
        "plt.plot(rang, k_person)\n",
        "plt.xlabel('No. of Months from (Jan 1972)', fontsize=12)\n",
        "plt.ylabel('Thousand of Person', fontsize=12)\n",
        "plt.show()"
      ],
      "execution_count": 23,
      "outputs": [
        {
          "output_type": "display_data",
          "data": {
            "image/png": "[encoded data removed]",
            "text/plain": [
              "<Figure size 432x288 with 1 Axes>"
            ]
          },
          "metadata": {
            "tags": [],
            "needs_background": "light"
          }
        }
      ]
    },
    {
      "cell_type": "markdown",
      "metadata": {
        "id": "UcMw7XewaHyS",
        "colab_type": "text"
      },
      "source": [
        ""
      ]
    },
    {
      "cell_type": "markdown",
      "metadata": {
        "id": "n4gSmLR4ebjB",
        "colab_type": "text"
      },
      "source": [
        "2. Analysis of Agriculture Industry\n"
      ]
    },
    {
      "cell_type": "code",
      "metadata": {
        "id": "HRxj5VMQebTt",
        "colab_type": "code",
        "colab": {}
      },
      "source": [
        ""
      ],
      "execution_count": null,
      "outputs": []
    }
  ]
}