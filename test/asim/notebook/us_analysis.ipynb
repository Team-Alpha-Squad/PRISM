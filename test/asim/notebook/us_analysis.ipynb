{
  "nbformat": 4,
  "nbformat_minor": 0,
  "metadata": {
    "colab": {
      "name": "Untitled0.ipynb",
      "provenance": [],
      "authorship_tag": "ABX9TyMDoB1cs/eZ38tY0WYtDLtY",
      "include_colab_link": true
    },
    "kernelspec": {
      "name": "python3",
      "display_name": "Python 3"
    }
  },
  "cells": [
    {
      "cell_type": "markdown",
      "metadata": {
        "id": "view-in-github",
        "colab_type": "text"
      },
      "source": [
        "<a href=\"https://colab.research.google.com/github/Team-Alpha-Squad/PRISM/blob/master/test/asim/notebook/us_analysis.ipynb\" target=\"_parent\"><img src=\"https://colab.research.google.com/assets/colab-badge.svg\" alt=\"Open In Colab\"/></a>"
      ]
    },
    {
      "cell_type": "markdown",
      "metadata": {
        "id": "GLtrsw3vm5p4",
        "colab_type": "text"
      },
      "source": [
        "Analysis of United States Economy\n"
      ]
    },
    {
      "cell_type": "code",
      "metadata": {
        "id": "8-V64C0-m_rG",
        "colab_type": "code",
        "colab": {}
      },
      "source": [
        "# Important Libraries for analysis\n",
        "import pandas as pd\n",
        "import numpy as np\n",
        "import matplotlib.pyplot as plt\n",
        "import numpy as np"
      ],
      "execution_count": 3,
      "outputs": []
    },
    {
      "cell_type": "markdown",
      "metadata": {
        "id": "i5ycscITnqdM",
        "colab_type": "text"
      },
      "source": [
        "1. US GDP DATA"
      ]
    },
    {
      "cell_type": "code",
      "metadata": {
        "id": "tVvH6rZynvSk",
        "colab_type": "code",
        "colab": {
          "base_uri": "https://localhost:8080/",
          "height": 402
        },
        "outputId": "7ed843d3-35d3-43bd-ab6f-a9b0167a8b6b"
      },
      "source": [
        "auto_data = pd.read_csv(\"https://raw.githubusercontent.com/Team-Alpha-Squad/PRISM/master/test/asim/data/us_economy/gdp_us.csv\")\n",
        "auto_data = auto_data[-100:]\n",
        "auto_data"
      ],
      "execution_count": 4,
      "outputs": [
        {
          "output_type": "execute_result",
          "data": {
            "text/html": [
              "<div>\n",
              "<style scoped>\n",
              "    .dataframe tbody tr th:only-of-type {\n",
              "        vertical-align: middle;\n",
              "    }\n",
              "\n",
              "    .dataframe tbody tr th {\n",
              "        vertical-align: top;\n",
              "    }\n",
              "\n",
              "    .dataframe thead th {\n",
              "        text-align: right;\n",
              "    }\n",
              "</style>\n",
              "<table border=\"1\" class=\"dataframe\">\n",
              "  <thead>\n",
              "    <tr style=\"text-align: right;\">\n",
              "      <th></th>\n",
              "      <th>DATE</th>\n",
              "      <th>GDPC1</th>\n",
              "    </tr>\n",
              "  </thead>\n",
              "  <tbody>\n",
              "    <tr>\n",
              "      <th>193</th>\n",
              "      <td>1995-04-01</td>\n",
              "      <td>10575.100</td>\n",
              "    </tr>\n",
              "    <tr>\n",
              "      <th>194</th>\n",
              "      <td>1995-07-01</td>\n",
              "      <td>10665.060</td>\n",
              "    </tr>\n",
              "    <tr>\n",
              "      <th>195</th>\n",
              "      <td>1995-10-01</td>\n",
              "      <td>10737.478</td>\n",
              "    </tr>\n",
              "    <tr>\n",
              "      <th>196</th>\n",
              "      <td>1996-01-01</td>\n",
              "      <td>10817.896</td>\n",
              "    </tr>\n",
              "    <tr>\n",
              "      <th>197</th>\n",
              "      <td>1996-04-01</td>\n",
              "      <td>10998.322</td>\n",
              "    </tr>\n",
              "    <tr>\n",
              "      <th>...</th>\n",
              "      <td>...</td>\n",
              "      <td>...</td>\n",
              "    </tr>\n",
              "    <tr>\n",
              "      <th>288</th>\n",
              "      <td>2019-01-01</td>\n",
              "      <td>18927.281</td>\n",
              "    </tr>\n",
              "    <tr>\n",
              "      <th>289</th>\n",
              "      <td>2019-04-01</td>\n",
              "      <td>19021.860</td>\n",
              "    </tr>\n",
              "    <tr>\n",
              "      <th>290</th>\n",
              "      <td>2019-07-01</td>\n",
              "      <td>19121.112</td>\n",
              "    </tr>\n",
              "    <tr>\n",
              "      <th>291</th>\n",
              "      <td>2019-10-01</td>\n",
              "      <td>19221.970</td>\n",
              "    </tr>\n",
              "    <tr>\n",
              "      <th>292</th>\n",
              "      <td>2020-01-01</td>\n",
              "      <td>18977.363</td>\n",
              "    </tr>\n",
              "  </tbody>\n",
              "</table>\n",
              "<p>100 rows × 2 columns</p>\n",
              "</div>"
            ],
            "text/plain": [
              "           DATE      GDPC1\n",
              "193  1995-04-01  10575.100\n",
              "194  1995-07-01  10665.060\n",
              "195  1995-10-01  10737.478\n",
              "196  1996-01-01  10817.896\n",
              "197  1996-04-01  10998.322\n",
              "..          ...        ...\n",
              "288  2019-01-01  18927.281\n",
              "289  2019-04-01  19021.860\n",
              "290  2019-07-01  19121.112\n",
              "291  2019-10-01  19221.970\n",
              "292  2020-01-01  18977.363\n",
              "\n",
              "[100 rows x 2 columns]"
            ]
          },
          "metadata": {
            "tags": []
          },
          "execution_count": 4
        }
      ]
    },
    {
      "cell_type": "code",
      "metadata": {
        "id": "FARgUsBloCnw",
        "colab_type": "code",
        "colab": {}
      },
      "source": [
        "date = auto_data[\"DATE\"]\n",
        "gdp = auto_data[\"GDPC1\"]\n",
        "rang = [num for num in range(100)]"
      ],
      "execution_count": 51,
      "outputs": []
    },
    {
      "cell_type": "code",
      "metadata": {
        "id": "vK9m1zjBoMOg",
        "colab_type": "code",
        "colab": {
          "base_uri": "https://localhost:8080/",
          "height": 298
        },
        "outputId": "61a75f41-ae8d-42e4-d178-f15174014bdd"
      },
      "source": [
        "plt.plot(rang, gdp)\n",
        "plt.title(\"United States GDP\")\n",
        "plt.xlabel('No. of Quarters from (2nd Q 1195)', fontsize=12)\n",
        "plt.ylabel('GDP', fontsize=12)\n",
        "plt.show()"
      ],
      "execution_count": 7,
      "outputs": [
        {
          "output_type": "display_data",
          "data": {
            "image/png": "[encoded data removed]",
            "text/plain": [
              "<Figure size 432x288 with 1 Axes>"
            ]
          },
          "metadata": {
            "tags": [],
            "needs_background": "light"
          }
        }
      ]
    },
    {
      "cell_type": "markdown",
      "metadata": {
        "id": "tKcpJ9riohic",
        "colab_type": "text"
      },
      "source": [
        "US EURO EXCANGE RATE"
      ]
    },
    {
      "cell_type": "code",
      "metadata": {
        "id": "zs5_Kb7uowkC",
        "colab_type": "code",
        "colab": {
          "base_uri": "https://localhost:8080/",
          "height": 402
        },
        "outputId": "32e59af1-ae0a-4d4b-ae25-e0e14a2981b0"
      },
      "source": [
        "us_euro = pd.read_csv(\"https://raw.githubusercontent.com/Team-Alpha-Squad/PRISM/master/test/asim/data/us_economy/us_euro_exchange.csv\")\n",
        "us_euro = us_euro[-120:]\n",
        "us_euro"
      ],
      "execution_count": 42,
      "outputs": [
        {
          "output_type": "execute_result",
          "data": {
            "text/html": [
              "<div>\n",
              "<style scoped>\n",
              "    .dataframe tbody tr th:only-of-type {\n",
              "        vertical-align: middle;\n",
              "    }\n",
              "\n",
              "    .dataframe tbody tr th {\n",
              "        vertical-align: top;\n",
              "    }\n",
              "\n",
              "    .dataframe thead th {\n",
              "        text-align: right;\n",
              "    }\n",
              "</style>\n",
              "<table border=\"1\" class=\"dataframe\">\n",
              "  <thead>\n",
              "    <tr style=\"text-align: right;\">\n",
              "      <th></th>\n",
              "      <th>DATE</th>\n",
              "      <th>DEXUSEU</th>\n",
              "    </tr>\n",
              "  </thead>\n",
              "  <tbody>\n",
              "    <tr>\n",
              "      <th>1186</th>\n",
              "      <td>2020-01-13</td>\n",
              "      <td>1.1138</td>\n",
              "    </tr>\n",
              "    <tr>\n",
              "      <th>1187</th>\n",
              "      <td>2020-01-14</td>\n",
              "      <td>1.113</td>\n",
              "    </tr>\n",
              "    <tr>\n",
              "      <th>1188</th>\n",
              "      <td>2020-01-15</td>\n",
              "      <td>1.116</td>\n",
              "    </tr>\n",
              "    <tr>\n",
              "      <th>1189</th>\n",
              "      <td>2020-01-16</td>\n",
              "      <td>1.1131</td>\n",
              "    </tr>\n",
              "    <tr>\n",
              "      <th>1190</th>\n",
              "      <td>2020-01-17</td>\n",
              "      <td>1.1093</td>\n",
              "    </tr>\n",
              "    <tr>\n",
              "      <th>...</th>\n",
              "      <td>...</td>\n",
              "      <td>...</td>\n",
              "    </tr>\n",
              "    <tr>\n",
              "      <th>1301</th>\n",
              "      <td>2020-06-22</td>\n",
              "      <td>1.126</td>\n",
              "    </tr>\n",
              "    <tr>\n",
              "      <th>1302</th>\n",
              "      <td>2020-06-23</td>\n",
              "      <td>1.1322</td>\n",
              "    </tr>\n",
              "    <tr>\n",
              "      <th>1303</th>\n",
              "      <td>2020-06-24</td>\n",
              "      <td>1.1272</td>\n",
              "    </tr>\n",
              "    <tr>\n",
              "      <th>1304</th>\n",
              "      <td>2020-06-25</td>\n",
              "      <td>1.1221</td>\n",
              "    </tr>\n",
              "    <tr>\n",
              "      <th>1305</th>\n",
              "      <td>2020-06-26</td>\n",
              "      <td>1.1215</td>\n",
              "    </tr>\n",
              "  </tbody>\n",
              "</table>\n",
              "<p>120 rows × 2 columns</p>\n",
              "</div>"
            ],
            "text/plain": [
              "            DATE DEXUSEU\n",
              "1186  2020-01-13  1.1138\n",
              "1187  2020-01-14   1.113\n",
              "1188  2020-01-15   1.116\n",
              "1189  2020-01-16  1.1131\n",
              "1190  2020-01-17  1.1093\n",
              "...          ...     ...\n",
              "1301  2020-06-22   1.126\n",
              "1302  2020-06-23  1.1322\n",
              "1303  2020-06-24  1.1272\n",
              "1304  2020-06-25  1.1221\n",
              "1305  2020-06-26  1.1215\n",
              "\n",
              "[120 rows x 2 columns]"
            ]
          },
          "metadata": {
            "tags": []
          },
          "execution_count": 42
        }
      ]
    },
    {
      "cell_type": "code",
      "metadata": {
        "id": "EmU7HaPSowhF",
        "colab_type": "code",
        "colab": {}
      },
      "source": [
        "date = us_euro[\"DATE\"]\n",
        "us_euro_ratio = us_euro[\"DEXUSEU\"]\n",
        "ran = [num for num in range(120)]"
      ],
      "execution_count": 27,
      "outputs": []
    },
    {
      "cell_type": "code",
      "metadata": {
        "id": "e73SxVa5pWh3",
        "colab_type": "code",
        "colab": {
          "base_uri": "https://localhost:8080/",
          "height": 298
        },
        "outputId": "2b4d002a-e8e0-418a-8a72-d964c4805e7f"
      },
      "source": [
        "plt.plot(ran, us_euro_ratio)\n",
        "plt.title(\"US-EURO exchange rates\")\n",
        "plt.xlabel('No. of days (from Sep Jan 2020)', fontsize=12)\n",
        "plt.ylabel('Dollar/ Euro', fontsize=12)\n",
        "plt.show()"
      ],
      "execution_count": 45,
      "outputs": [
        {
          "output_type": "display_data",
          "data": {
            "image/png": "[encoded data removed]",
            "text/plain": [
              "<Figure size 432x288 with 1 Axes>"
            ]
          },
          "metadata": {
            "tags": [],
            "needs_background": "light"
          }
        }
      ]
    },
    {
      "cell_type": "markdown",
      "metadata": {
        "id": "UTUT5pkNwHxo",
        "colab_type": "text"
      },
      "source": [
        "Industrial Production Index"
      ]
    },
    {
      "cell_type": "code",
      "metadata": {
        "id": "S8QuMh3bq1WX",
        "colab_type": "code",
        "colab": {
          "base_uri": "https://localhost:8080/",
          "height": 402
        },
        "outputId": "948c9ee2-4577-4f55-ca8c-2c69570a0b2a"
      },
      "source": [
        "ind_pro = pd.read_csv(\"https://raw.githubusercontent.com/Team-Alpha-Squad/PRISM/master/test/asim/data/us_economy/industrial_production_index.csv\")\n",
        "ind_pro = us_euro[-100:]\n",
        "ind_pro"
      ],
      "execution_count": 46,
      "outputs": [
        {
          "output_type": "execute_result",
          "data": {
            "text/html": [
              "<div>\n",
              "<style scoped>\n",
              "    .dataframe tbody tr th:only-of-type {\n",
              "        vertical-align: middle;\n",
              "    }\n",
              "\n",
              "    .dataframe tbody tr th {\n",
              "        vertical-align: top;\n",
              "    }\n",
              "\n",
              "    .dataframe thead th {\n",
              "        text-align: right;\n",
              "    }\n",
              "</style>\n",
              "<table border=\"1\" class=\"dataframe\">\n",
              "  <thead>\n",
              "    <tr style=\"text-align: right;\">\n",
              "      <th></th>\n",
              "      <th>DATE</th>\n",
              "      <th>INDPRO</th>\n",
              "    </tr>\n",
              "  </thead>\n",
              "  <tbody>\n",
              "    <tr>\n",
              "      <th>1117</th>\n",
              "      <td>2012-02-01</td>\n",
              "      <td>99.6203</td>\n",
              "    </tr>\n",
              "    <tr>\n",
              "      <th>1118</th>\n",
              "      <td>2012-03-01</td>\n",
              "      <td>99.1551</td>\n",
              "    </tr>\n",
              "    <tr>\n",
              "      <th>1119</th>\n",
              "      <td>2012-04-01</td>\n",
              "      <td>99.9006</td>\n",
              "    </tr>\n",
              "    <tr>\n",
              "      <th>1120</th>\n",
              "      <td>2012-05-01</td>\n",
              "      <td>100.0924</td>\n",
              "    </tr>\n",
              "    <tr>\n",
              "      <th>1121</th>\n",
              "      <td>2012-06-01</td>\n",
              "      <td>100.0728</td>\n",
              "    </tr>\n",
              "    <tr>\n",
              "      <th>...</th>\n",
              "      <td>...</td>\n",
              "      <td>...</td>\n",
              "    </tr>\n",
              "    <tr>\n",
              "      <th>1212</th>\n",
              "      <td>2020-01-01</td>\n",
              "      <td>109.2128</td>\n",
              "    </tr>\n",
              "    <tr>\n",
              "      <th>1213</th>\n",
              "      <td>2020-02-01</td>\n",
              "      <td>109.3608</td>\n",
              "    </tr>\n",
              "    <tr>\n",
              "      <th>1214</th>\n",
              "      <td>2020-03-01</td>\n",
              "      <td>104.3554</td>\n",
              "    </tr>\n",
              "    <tr>\n",
              "      <th>1215</th>\n",
              "      <td>2020-04-01</td>\n",
              "      <td>91.2823</td>\n",
              "    </tr>\n",
              "    <tr>\n",
              "      <th>1216</th>\n",
              "      <td>2020-05-01</td>\n",
              "      <td>92.5503</td>\n",
              "    </tr>\n",
              "  </tbody>\n",
              "</table>\n",
              "<p>100 rows × 2 columns</p>\n",
              "</div>"
            ],
            "text/plain": [
              "            DATE    INDPRO\n",
              "1117  2012-02-01   99.6203\n",
              "1118  2012-03-01   99.1551\n",
              "1119  2012-04-01   99.9006\n",
              "1120  2012-05-01  100.0924\n",
              "1121  2012-06-01  100.0728\n",
              "...          ...       ...\n",
              "1212  2020-01-01  109.2128\n",
              "1213  2020-02-01  109.3608\n",
              "1214  2020-03-01  104.3554\n",
              "1215  2020-04-01   91.2823\n",
              "1216  2020-05-01   92.5503\n",
              "\n",
              "[100 rows x 2 columns]"
            ]
          },
          "metadata": {
            "tags": []
          },
          "execution_count": 46
        }
      ]
    },
    {
      "cell_type": "code",
      "metadata": {
        "id": "kTJE9I80wQfm",
        "colab_type": "code",
        "colab": {}
      },
      "source": [
        "ind_p = ind_pro[\"INDPRO\"]"
      ],
      "execution_count": 56,
      "outputs": []
    },
    {
      "cell_type": "code",
      "metadata": {
        "id": "9pY4Bs2jw0uj",
        "colab_type": "code",
        "colab": {
          "base_uri": "https://localhost:8080/",
          "height": 298
        },
        "outputId": "55b6065d-0b27-4226-e3f8-9ec171e52cac"
      },
      "source": [
        "plt.plot(rang, ind_p)\n",
        "plt.title(\"Industial Production Index\")\n",
        "plt.xlabel('No. of months (from Feb 2012)', fontsize=12)\n",
        "plt.ylabel('Production Index', fontsize=12)\n",
        "plt.show()"
      ],
      "execution_count": 61,
      "outputs": [
        {
          "output_type": "display_data",
          "data": {
            "image/png": "[encoded data removed]",
            "text/plain": [
              "<Figure size 432x288 with 1 Axes>"
            ]
          },
          "metadata": {
            "tags": [],
            "needs_background": "light"
          }
        }
      ]
    },
    {
      "cell_type": "markdown",
      "metadata": {
        "id": "giZGqCyixdUy",
        "colab_type": "text"
      },
      "source": [
        "4. Unemployment Rate"
      ]
    },
    {
      "cell_type": "code",
      "metadata": {
        "id": "x1Sz4WM9xfz1",
        "colab_type": "code",
        "colab": {
          "base_uri": "https://localhost:8080/",
          "height": 402
        },
        "outputId": "3cefdeeb-7796-422c-fe53-5f283dc95c23"
      },
      "source": [
        "une_data= pd.read_csv(\"https://raw.githubusercontent.com/Team-Alpha-Squad/PRISM/master/test/asim/data/us_economy/unemployment_us.csv\")\n",
        "une_data = une_data[-100:]\n",
        "une_data"
      ],
      "execution_count": 58,
      "outputs": [
        {
          "output_type": "execute_result",
          "data": {
            "text/html": [
              "<div>\n",
              "<style scoped>\n",
              "    .dataframe tbody tr th:only-of-type {\n",
              "        vertical-align: middle;\n",
              "    }\n",
              "\n",
              "    .dataframe tbody tr th {\n",
              "        vertical-align: top;\n",
              "    }\n",
              "\n",
              "    .dataframe thead th {\n",
              "        text-align: right;\n",
              "    }\n",
              "</style>\n",
              "<table border=\"1\" class=\"dataframe\">\n",
              "  <thead>\n",
              "    <tr style=\"text-align: right;\">\n",
              "      <th></th>\n",
              "      <th>DATE</th>\n",
              "      <th>UNRATE</th>\n",
              "    </tr>\n",
              "  </thead>\n",
              "  <tbody>\n",
              "    <tr>\n",
              "      <th>770</th>\n",
              "      <td>2012-03-01</td>\n",
              "      <td>8.2</td>\n",
              "    </tr>\n",
              "    <tr>\n",
              "      <th>771</th>\n",
              "      <td>2012-04-01</td>\n",
              "      <td>8.2</td>\n",
              "    </tr>\n",
              "    <tr>\n",
              "      <th>772</th>\n",
              "      <td>2012-05-01</td>\n",
              "      <td>8.2</td>\n",
              "    </tr>\n",
              "    <tr>\n",
              "      <th>773</th>\n",
              "      <td>2012-06-01</td>\n",
              "      <td>8.2</td>\n",
              "    </tr>\n",
              "    <tr>\n",
              "      <th>774</th>\n",
              "      <td>2012-07-01</td>\n",
              "      <td>8.2</td>\n",
              "    </tr>\n",
              "    <tr>\n",
              "      <th>...</th>\n",
              "      <td>...</td>\n",
              "      <td>...</td>\n",
              "    </tr>\n",
              "    <tr>\n",
              "      <th>865</th>\n",
              "      <td>2020-02-01</td>\n",
              "      <td>3.5</td>\n",
              "    </tr>\n",
              "    <tr>\n",
              "      <th>866</th>\n",
              "      <td>2020-03-01</td>\n",
              "      <td>4.4</td>\n",
              "    </tr>\n",
              "    <tr>\n",
              "      <th>867</th>\n",
              "      <td>2020-04-01</td>\n",
              "      <td>14.7</td>\n",
              "    </tr>\n",
              "    <tr>\n",
              "      <th>868</th>\n",
              "      <td>2020-05-01</td>\n",
              "      <td>13.3</td>\n",
              "    </tr>\n",
              "    <tr>\n",
              "      <th>869</th>\n",
              "      <td>2020-06-01</td>\n",
              "      <td>11.1</td>\n",
              "    </tr>\n",
              "  </tbody>\n",
              "</table>\n",
              "<p>100 rows × 2 columns</p>\n",
              "</div>"
            ],
            "text/plain": [
              "           DATE  UNRATE\n",
              "770  2012-03-01     8.2\n",
              "771  2012-04-01     8.2\n",
              "772  2012-05-01     8.2\n",
              "773  2012-06-01     8.2\n",
              "774  2012-07-01     8.2\n",
              "..          ...     ...\n",
              "865  2020-02-01     3.5\n",
              "866  2020-03-01     4.4\n",
              "867  2020-04-01    14.7\n",
              "868  2020-05-01    13.3\n",
              "869  2020-06-01    11.1\n",
              "\n",
              "[100 rows x 2 columns]"
            ]
          },
          "metadata": {
            "tags": []
          },
          "execution_count": 58
        }
      ]
    },
    {
      "cell_type": "code",
      "metadata": {
        "id": "67bae53VxsG6",
        "colab_type": "code",
        "colab": {}
      },
      "source": [
        "une_rate = une_data[\"UNRATE\"]"
      ],
      "execution_count": 59,
      "outputs": []
    },
    {
      "cell_type": "code",
      "metadata": {
        "id": "oDdnc8LVxyvB",
        "colab_type": "code",
        "colab": {
          "base_uri": "https://localhost:8080/",
          "height": 298
        },
        "outputId": "c7b07d9b-505b-4050-cb77-9754aaa4e3a2"
      },
      "source": [
        "plt.plot(rang, une_rate)\n",
        "plt.title(\"Unemployment in United States\")\n",
        "plt.xlabel('No. of months (from March 2012)', fontsize=12)\n",
        "plt.ylabel('Unemployment Rate', fontsize=12)\n",
        "plt.show()"
      ],
      "execution_count": 62,
      "outputs": [
        {
          "output_type": "display_data",
          "data": {
            "image/png": "[encoded data removed]",
            "text/plain": [
              "<Figure size 432x288 with 1 Axes>"
            ]
          },
          "metadata": {
            "tags": [],
            "needs_background": "light"
          }
        }
      ]
    }
  ]
}